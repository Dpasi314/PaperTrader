{
 "cells": [
  {
   "cell_type": "markdown",
   "metadata": {},
   "source": [
    "***Test out Tensorflow:***"
   ]
  },
  {
   "cell_type": "code",
   "execution_count": 45,
   "metadata": {},
   "outputs": [
    {
     "name": "stdout",
     "output_type": "stream",
     "text": [
      "b'Hello, TensorFlow!'\n"
     ]
    }
   ],
   "source": [
    "import tensorflow as tf\n",
    "import pandas\n",
    "import numpy as np\n",
    "hello = tf.constant('Hello, TensorFlow!')\n",
    "sess = tf.Session()\n",
    "print(sess.run(hello))"
   ]
  },
  {
   "cell_type": "markdown",
   "metadata": {},
   "source": [
    "***Load in the stock data:***"
   ]
  },
  {
   "cell_type": "code",
   "execution_count": 46,
   "metadata": {},
   "outputs": [
    {
     "name": "stdout",
     "output_type": "stream",
     "text": [
      "<class 'pandas.core.frame.DataFrame'>\n",
      "RangeIndex: 1259 entries, 0 to 1258\n",
      "Data columns (total 7 columns):\n",
      "date      1259 non-null object\n",
      "open      1259 non-null float64\n",
      "high      1259 non-null float64\n",
      "low       1259 non-null float64\n",
      "close     1259 non-null float64\n",
      "volume    1259 non-null int64\n",
      "Name      1259 non-null object\n",
      "dtypes: float64(4), int64(1), object(2)\n",
      "memory usage: 68.9+ KB\n"
     ]
    },
    {
     "data": {
      "text/plain": [
       "'2013-02-08'"
      ]
     },
     "execution_count": 46,
     "metadata": {},
     "output_type": "execute_result"
    }
   ],
   "source": [
    "dfAppl = pandas.read_csv('AAPL_data.csv')\n",
    "dfAppl.info()\n",
    "dfAppl['date'][0]"
   ]
  },
  {
   "cell_type": "markdown",
   "metadata": {},
   "source": [
    "**DATA WRANGLIING:**\n",
    "\n",
    "Here I'll create the features and response variables for the data"
   ]
  },
  {
   "cell_type": "code",
   "execution_count": 61,
   "metadata": {},
   "outputs": [],
   "source": [
    "#response variable (labels) is if the stock went up by X% in the next 14 days\n",
    "percentGainInFortnight = np.zeros(1245)\n",
    "dfApplCutBy14 = dfAppl[7:1245]\n",
    "\n",
    "for index, row in dfApplCutBy14.iterrows():\n",
    "    #in 14 business days, did the stock go up by 3%\n",
    "\n",
    "    if ((row['close']*.03)+row['close']) <= dfAppl.iloc[index+14]['close']:\n",
    "        percentGainInFortnight[index] = 3\n",
    "    else:\n",
    "        percentGainInFortnight[index] = 0\n",
    "\n",
    "for index, row in dfApplCutBy14.iterrows():\n",
    "    #in 14 business days, did the stock go up by 5%\n",
    "    \n",
    "    if ((row['close']*.05)+row['close']) <= dfAppl.iloc[index+14]['close']:\n",
    "        percentGainInFortnight[index] = 5\n",
    "        \n",
    "for index, row in dfApplCutBy14.iterrows():\n",
    "    #in 14 business days, did the stock go up by 7%\n",
    "    \n",
    "    if ((row['close']*.07)+row['close']) <= dfAppl.iloc[index+14]['close']:\n",
    "        percentGainInFortnight[index] = 7\n",
    "    \n",
    "    "
   ]
  },
  {
   "cell_type": "markdown",
   "metadata": {},
   "source": [
    "**FEATURES**\n",
    "\n",
    "*Average difference of high and low (daily extremes) in the last 5 days (volatility measure):*"
   ]
  },
  {
   "cell_type": "code",
   "execution_count": 68,
   "metadata": {},
   "outputs": [],
   "source": [
    "volatility = []\n",
    "for index, row in dfApplCutBy14.iterrows():\n",
    "    diffs = 0\n",
    "    for ii in range(index-4,index+1):\n",
    "        diffs += (dfAppl.iloc[ii]['high'] - dfAppl.iloc[ii]['low'])\n",
    "    diffs /= 5\n",
    "    volatility.append(diffs)"
   ]
  },
  {
   "cell_type": "markdown",
   "metadata": {},
   "source": [
    "*Percent change from last day*"
   ]
  },
  {
   "cell_type": "code",
   "execution_count": 73,
   "metadata": {},
   "outputs": [],
   "source": [
    "percentChangeDay = []\n",
    "\n",
    "for index, row in dfApplCutBy14.iterrows():\n",
    "    percent = (dfAppl.iloc[index]['close']-dfAppl.iloc[index-1]['close'])/dfAppl.iloc[index-1]['close']\n",
    "    percentChangeDay.append(percent)"
   ]
  },
  {
   "cell_type": "markdown",
   "metadata": {},
   "source": [
    "*Percent change from last 3 days*"
   ]
  },
  {
   "cell_type": "code",
   "execution_count": 74,
   "metadata": {},
   "outputs": [],
   "source": [
    "percentChange3Day = []\n",
    "\n",
    "for index, row in dfApplCutBy14.iterrows():\n",
    "    percent = (dfAppl.iloc[index]['close']-dfAppl.iloc[index-3]['close'])/dfAppl.iloc[index-3]['close']\n",
    "    percentChange3Day.append(percent)"
   ]
  },
  {
   "cell_type": "markdown",
   "metadata": {},
   "source": [
    "*Percent change from last week*"
   ]
  },
  {
   "cell_type": "code",
   "execution_count": 83,
   "metadata": {},
   "outputs": [],
   "source": [
    "percentChange7Day = []\n",
    "\n",
    "for index, row in dfApplCutBy14.iterrows():\n",
    "    \n",
    "    percent = (dfAppl.iloc[index]['close']-dfAppl.iloc[index-7]['close'])/dfAppl.iloc[index-7]['close']\n",
    "    percentChange7Day.append(percent)"
   ]
  },
  {
   "cell_type": "code",
   "execution_count": 84,
   "metadata": {},
   "outputs": [],
   "source": [
    "def input_evaluation_set():\n",
    "    features = {'Volatility5Day': np.array(volatility),\n",
    "                'PercentChange1Day':  np.array(percentChangeDay),\n",
    "                'PercentChange3Day': np.array(percentChange3Day),\n",
    "                'PercentChangeWeek':  np.array(percentChange7Day)}\n",
    "    \n",
    "    labels = percentGainInFortnight\n",
    "    return features, labels"
   ]
  },
  {
   "cell_type": "markdown",
   "metadata": {},
   "source": [
    "**Split training and test data**"
   ]
  },
  {
   "cell_type": "code",
   "execution_count": null,
   "metadata": {},
   "outputs": [],
   "source": [
    "feature_data,labels = input_evaluation_set()\n",
    "\n",
    "train_x,test_x = \n",
    "train_y,test_y = "
   ]
  },
  {
   "cell_type": "markdown",
   "metadata": {},
   "source": [
    "adfadsf"
   ]
  },
  {
   "cell_type": "code",
   "execution_count": 85,
   "metadata": {},
   "outputs": [
    {
     "ename": "NameError",
     "evalue": "name 'train_x' is not defined",
     "output_type": "error",
     "traceback": [
      "\u001b[0;31m---------------------------------------------------------------------------\u001b[0m",
      "\u001b[0;31mNameError\u001b[0m                                 Traceback (most recent call last)",
      "\u001b[0;32m<ipython-input-85-6db9bc7af46d>\u001b[0m in \u001b[0;36m<module>\u001b[0;34m()\u001b[0m\n\u001b[1;32m      1\u001b[0m \u001b[0;31m# Feature columns describe how to use the input.\u001b[0m\u001b[0;34m\u001b[0m\u001b[0;34m\u001b[0m\u001b[0m\n\u001b[1;32m      2\u001b[0m \u001b[0mmy_feature_columns\u001b[0m \u001b[0;34m=\u001b[0m \u001b[0;34m[\u001b[0m\u001b[0;34m]\u001b[0m\u001b[0;34m\u001b[0m\u001b[0m\n\u001b[0;32m----> 3\u001b[0;31m \u001b[0;32mfor\u001b[0m \u001b[0mkey\u001b[0m \u001b[0;32min\u001b[0m \u001b[0mtrain_x\u001b[0m\u001b[0;34m.\u001b[0m\u001b[0mkeys\u001b[0m\u001b[0;34m(\u001b[0m\u001b[0;34m)\u001b[0m\u001b[0;34m:\u001b[0m\u001b[0;34m\u001b[0m\u001b[0m\n\u001b[0m\u001b[1;32m      4\u001b[0m     \u001b[0mmy_feature_columns\u001b[0m\u001b[0;34m.\u001b[0m\u001b[0mappend\u001b[0m\u001b[0;34m(\u001b[0m\u001b[0mtf\u001b[0m\u001b[0;34m.\u001b[0m\u001b[0mfeature_column\u001b[0m\u001b[0;34m.\u001b[0m\u001b[0mnumeric_column\u001b[0m\u001b[0;34m(\u001b[0m\u001b[0mkey\u001b[0m\u001b[0;34m=\u001b[0m\u001b[0mkey\u001b[0m\u001b[0;34m)\u001b[0m\u001b[0;34m)\u001b[0m\u001b[0;34m\u001b[0m\u001b[0m\n\u001b[1;32m      5\u001b[0m \u001b[0;34m\u001b[0m\u001b[0m\n",
      "\u001b[0;31mNameError\u001b[0m: name 'train_x' is not defined"
     ]
    }
   ],
   "source": [
    "# Feature columns describe how to use the input.\n",
    "\n",
    "my_feature_columns = []\n",
    "for key in train_x.keys():\n",
    "    my_feature_columns.append(tf.feature_column.numeric_column(key=key))\n",
    "\n",
    "# Build a DNN with 2 hidden layers and 10 nodes in each hidden layer.\n",
    "classifier = tf.estimator.DNNClassifier(\n",
    "    feature_columns=my_feature_columns,\n",
    "    # Two hidden layers of 10 nodes each.\n",
    "    hidden_units=[10, 10],\n",
    "    # The model must choose between 3 classes.\n",
    "    n_classes=4)"
   ]
  },
  {
   "cell_type": "code",
   "execution_count": null,
   "metadata": {},
   "outputs": [],
   "source": []
  }
 ],
 "metadata": {
  "kernelspec": {
   "display_name": "Python 3",
   "language": "python",
   "name": "python3"
  },
  "language_info": {
   "codemirror_mode": {
    "name": "ipython",
    "version": 3
   },
   "file_extension": ".py",
   "mimetype": "text/x-python",
   "name": "python",
   "nbconvert_exporter": "python",
   "pygments_lexer": "ipython3",
   "version": "3.6.5"
  }
 },
 "nbformat": 4,
 "nbformat_minor": 2
}
